{
 "cells": [
  {
   "cell_type": "markdown",
   "id": "1687c6b8",
   "metadata": {},
   "source": [
    "# Temperatura Global\n",
    "\n",
    "![global_map](images/global_map.png)\n",
    "\n",
    "\n",
    "**Fuentes:** \n",
    "+ https://data.giss.nasa.gov/gistemp/\n",
    "+ https://www.metoffice.gov.uk/hadobs/\n",
    "+ https://www.ncdc.noaa.gov/cag/global/time-series\n",
    "\n",
    "[Descarga directa de los datos de anomalías de temperatura (global)](https://www.metoffice.gov.uk/hadobs/hadcrut4/data/current/time_series/HadCRUT.4.6.0.0.monthly_ns_avg.txt)\n",
    "\n",
    "[Descarga directa de los datos de anomalías de temperatura 2 (global)](https://www.metoffice.gov.uk/hadobs/hadcrut5/)\n",
    "\n",
    "[Descarga directa de los datos de anomalías de temperatura (mapa)](https://data.giss.nasa.gov/pub/gistemp/gistemp1200_GHCNv4_ERSSTv5.nc.gz)"
   ]
  },
  {
   "cell_type": "code",
   "execution_count": null,
   "id": "80122fd4",
   "metadata": {},
   "outputs": [],
   "source": [
    "# librerias\n",
    "\n",
    "import numpy as np\n",
    "\n",
    "import pandas as pd  # dataframe\n",
    "import xarray as xr\n",
    "\n",
    "import pylab as plt   # graficos\n",
    "from matplotlib.animation import FuncAnimation\n",
    "\n",
    "\n",
    "import cartopy.crs as ccrs\n",
    "from cartopy.feature import NaturalEarthFeature  # mapa global\n",
    "\n",
    "\n",
    "%matplotlib notebook\n",
    "plt.rcParams['animation.embed_limit'] = 2**128\n",
    "\n",
    "# prediccion\n",
    "from fbprophet import Prophet\n",
    "\n",
    "import warnings\n",
    "warnings.filterwarnings('ignore')"
   ]
  },
  {
   "cell_type": "markdown",
   "id": "7614eb1d",
   "metadata": {},
   "source": [
    "## Anomalías de temperatura por meses"
   ]
  },
  {
   "cell_type": "code",
   "execution_count": null,
   "id": "2e626127",
   "metadata": {},
   "outputs": [],
   "source": [
    "# caragar datos\n",
    "\n",
    "data=pd.read_csv('data/HadCRUT.5.0.1.0.analysis.summary_series.global.monthly.csv')\n",
    "\n",
    "data.head()"
   ]
  },
  {
   "cell_type": "code",
   "execution_count": null,
   "id": "23f45a31",
   "metadata": {},
   "outputs": [],
   "source": [
    "# transformar datos\n",
    "\n",
    "data['year']=data.Year.apply(lambda x: int(str(x).split('.')[0]))\n",
    "data['month']=data.Year.apply(lambda x: int(str(x).split('.')[1]))\n",
    "\n",
    "data.drop('Year', axis=1, inplace=True)\n",
    "\n",
    "data.rename(columns={'Anomaly': 'anomaly'}, inplace=True)\n",
    "\n",
    "months=dict(zip(data.month.unique(), [i for i in range(1, 13)]))\n",
    "\n",
    "data.month=data.month.apply(lambda x: months[x])\n",
    "\n",
    "data.head()"
   ]
  },
  {
   "cell_type": "code",
   "execution_count": null,
   "id": "306639d7",
   "metadata": {},
   "outputs": [],
   "source": [
    "data.year.min(), data.year.max()"
   ]
  },
  {
   "cell_type": "code",
   "execution_count": null,
   "id": "2363a428",
   "metadata": {},
   "outputs": [],
   "source": [
    "months=['Jan', 'Feb', 'Mar', 'Apr', 'May', 'Jun', 'Jul', 'Aug', 'Sep', 'Oct', 'Nov', 'Dec']"
   ]
  },
  {
   "cell_type": "code",
   "execution_count": null,
   "id": "fbdbfbd1",
   "metadata": {},
   "outputs": [],
   "source": [
    "plt.plot(months, data.anomaly[data.year==1880]);"
   ]
  },
  {
   "cell_type": "code",
   "execution_count": null,
   "id": "518fb7d9",
   "metadata": {},
   "outputs": [],
   "source": [
    "fig=plt.figure(figsize=(8,5))\n",
    "ax=plt.subplot(111)\n",
    "\n",
    "plt.ylim(-4, 4)\n",
    "\n",
    "\n",
    "def animate_func(i):\n",
    " \n",
    "    plt.title(f'Año {1880 + i}')\n",
    "\n",
    "    data_plot=data.anomaly[data.year==1880 + i]    \n",
    "    \n",
    "    ax.plot(months[:len(data_plot)], \n",
    "            data_plot, \n",
    "            c=plt.cm.viridis(i*2));\n",
    "    \n",
    "    return ax\n",
    "\n",
    "\n",
    "\n",
    "anim=FuncAnimation(fig, \n",
    "                   animate_func, \n",
    "                   frames=len(data.year.unique()),\n",
    "                   interval=200, \n",
    "                   repeat=False)"
   ]
  },
  {
   "cell_type": "markdown",
   "id": "4e01f9b8",
   "metadata": {},
   "source": [
    "### Anomalías de temperatura por meses (visualización polar, en espiral)"
   ]
  },
  {
   "cell_type": "code",
   "execution_count": null,
   "id": "7c444377",
   "metadata": {},
   "outputs": [],
   "source": [
    "data_polar=pd.read_csv('data/HadCRUT.5.0.1.0.analysis.summary_series.global.monthly.polar.csv')\n",
    "\n",
    "data_polar.head()"
   ]
  },
  {
   "cell_type": "code",
   "execution_count": null,
   "id": "311877e8",
   "metadata": {},
   "outputs": [],
   "source": [
    "data_polar['year']=data_polar.time.apply(lambda x: x.split('-')[0]).astype(int)\n",
    "data_polar['month']=data_polar.time.apply(lambda x: x.split('-')[1]).astype(int)\n",
    "\n",
    "data_polar.head()"
   ]
  },
  {
   "cell_type": "code",
   "execution_count": null,
   "id": "2fab72f1",
   "metadata": {},
   "outputs": [],
   "source": [
    "data_polar.year.max()"
   ]
  },
  {
   "cell_type": "code",
   "execution_count": null,
   "id": "16fc08c7",
   "metadata": {
    "scrolled": false
   },
   "outputs": [],
   "source": [
    "# creacion de array de angulos\n",
    "theta=np.linspace(0, 2*np.pi, 12)  # para 12 meses, representacion de datos\n",
    "\n",
    "# inicia figura\n",
    "fig=plt.figure(figsize=(9,9))\n",
    "ax=plt.subplot(111, projection='polar')\n",
    "\n",
    "\n",
    "# circulos informativos, azul=0ºC, rojo=1.5 y 3ºC por encima de la media\n",
    "ax.plot(np.linspace(0, 2*np.pi, 1000), [1. for _ in range(1000)], c='blue')\n",
    "ax.plot(np.linspace(0, 2*np.pi, 1000), [2.5 for _ in range(1000)], c='red')\n",
    "ax.plot(np.linspace(0, 2*np.pi, 1000), [3. for _ in range(1000)], c='red')\n",
    "\n",
    "ax.text(np.pi/2, 1.0, '0.0 C', color='blue', ha='center', fontdict={'fontsize': 20})\n",
    "ax.text(np.pi/2, 2.5, '1.5 C', color='red', ha='center', fontdict={'fontsize': 20})\n",
    "ax.text(np.pi/2, 3.0, '2.0 C', color='red', ha='center', fontdict={'fontsize': 20})\n",
    "\n",
    "# elimina etiquetas\n",
    "ax.axes.get_yaxis().set_ticklabels([])\n",
    "ax.axes.get_xaxis().set_ticklabels([])\n",
    "\n",
    "# setup\n",
    "ax.set_ylim(0, 3.25)\n",
    "ax.set_facecolor('#000100')\n",
    "ax.grid(False)\n",
    "\n",
    "# bucle para representar cada año\n",
    "years=data_polar.year.unique()\n",
    "\n",
    "\n",
    "for i, year in enumerate(years):\n",
    "    \n",
    "    # datos\n",
    "    data_plot=data_polar[data_polar.year==year].anomaly \n",
    "    \n",
    "    # visualizacion\n",
    "    ax.set_title('Anomalía Temperatura Global (1850-2021)', \n",
    "                  color='black', \n",
    "                  fontdict={'fontsize': 20})\n",
    "\n",
    "    ax.plot(theta[:len(data_plot)], \n",
    "            data_plot, \n",
    "            c=plt.get_cmap('jet')(i));"
   ]
  },
  {
   "cell_type": "code",
   "execution_count": null,
   "id": "7cfa5eca",
   "metadata": {},
   "outputs": [],
   "source": [
    "# creacion de array de angulos\n",
    "theta=np.linspace(0, 2*np.pi, 12)  # para 12 meses, representacion de datos\n",
    "\n",
    "# inicia figura\n",
    "fig=plt.figure(figsize=(9,9))\n",
    "ax=plt.subplot(111, projection='polar')\n",
    "\n",
    "\n",
    "# circulos informativos, azul=0ºC, rojo=1.5 y 3ºC por encima de la media\n",
    "ax.plot(np.linspace(0, 2*np.pi, 1000), [1. for _ in range(1000)], c='blue')\n",
    "ax.plot(np.linspace(0, 2*np.pi, 1000), [2.5 for _ in range(1000)], c='red')\n",
    "ax.plot(np.linspace(0, 2*np.pi, 1000), [3. for _ in range(1000)], c='red')\n",
    "\n",
    "ax.text(np.pi/2, 1.0, '0.0 C', color='blue', ha='center', fontdict={'fontsize': 20})\n",
    "ax.text(np.pi/2, 2.5, '1.5 C', color='red', ha='center', fontdict={'fontsize': 20})\n",
    "ax.text(np.pi/2, 3.0, '2.0 C', color='red', ha='center', fontdict={'fontsize': 20})\n",
    "\n",
    "# elimina etiquetas\n",
    "ax.axes.get_yaxis().set_ticklabels([])\n",
    "ax.axes.get_xaxis().set_ticklabels([])\n",
    "\n",
    "# setup\n",
    "ax.set_ylim(0, 3.25)\n",
    "ax.set_facecolor('#000100')\n",
    "ax.grid(False)\n",
    "\n",
    "\n",
    "# bucle para representar cada año\n",
    "years=data_polar.year.unique()\n",
    "\n",
    "\n",
    "months_angles=np.linspace((np.pi/2)+(2*np.pi), np.pi/2, 13)\n",
    "\n",
    "for i,month in enumerate(months):\n",
    "    ax.text(months_angles[i], 3.7 ,month, color='black', fontsize=15, ha='center')\n",
    "\n",
    "def animate_func(i):\n",
    "    # Borra el ultimo año del centro y deja el ultimo\n",
    "    for txt in ax.texts:\n",
    "      if(txt.get_position()==(0,0)) and i!=len(years):\n",
    "        txt.set_visible(False)\n",
    "        \n",
    "    # datos\n",
    "    data_plot=data_polar[data_polar.year==years[i]].anomaly\n",
    "    \n",
    "    # visualizacion\n",
    "    ax.plot(theta[:len(data_plot)], \n",
    "            data_plot, \n",
    "            c=plt.get_cmap('jet')(i))\n",
    "    \n",
    "    \n",
    "    ax.text(0 , 0, years[i], fontsize=20, color='white',ha='center')\n",
    "    \n",
    "    return ax\n",
    "\n",
    "\n",
    "\n",
    "anim=FuncAnimation(fig, \n",
    "                   animate_func, \n",
    "                   frames=len(years), \n",
    "                   interval=100,\n",
    "                   repeat=False)"
   ]
  },
  {
   "cell_type": "markdown",
   "id": "45060c54",
   "metadata": {},
   "source": [
    "### Predicción de anomalías hasta 2050"
   ]
  },
  {
   "cell_type": "code",
   "execution_count": null,
   "id": "f7d6db2f",
   "metadata": {},
   "outputs": [],
   "source": [
    "data_polar.info()"
   ]
  },
  {
   "cell_type": "code",
   "execution_count": null,
   "id": "27b2b8c8",
   "metadata": {},
   "outputs": [],
   "source": [
    "df_prophet=data_polar[['time', 'anomaly']]\n",
    "\n",
    "df_prophet.time=pd.to_datetime(df_prophet.time)\n",
    "\n",
    "df_prophet.columns=['ds', 'y']\n",
    "\n",
    "df_prophet.info()"
   ]
  },
  {
   "cell_type": "code",
   "execution_count": null,
   "id": "a7735150",
   "metadata": {},
   "outputs": [],
   "source": [
    "%%time\n",
    "model=Prophet().fit(df_prophet)"
   ]
  },
  {
   "cell_type": "code",
   "execution_count": null,
   "id": "b2d8d847",
   "metadata": {},
   "outputs": [],
   "source": [
    "# desde marzo del 2022 hasta diciembre del 2050\n",
    "\n",
    "future=model.make_future_dataframe(periods=347, freq='M')\n",
    "\n",
    "forecast=model.predict(future)\n",
    "\n",
    "fig=model.plot(forecast)"
   ]
  },
  {
   "cell_type": "code",
   "execution_count": null,
   "id": "4753daa1",
   "metadata": {},
   "outputs": [],
   "source": [
    "forecast=forecast[['ds', 'yhat', 'yhat_lower', 'yhat_upper']][forecast.ds>'2022-03-01']\n",
    "\n",
    "forecast.columns=['time', 'anomaly', 'lower', 'upper']\n",
    "\n",
    "forecast.head()"
   ]
  },
  {
   "cell_type": "code",
   "execution_count": null,
   "id": "9d44a21e",
   "metadata": {},
   "outputs": [],
   "source": [
    "# añadimos algo de desviacion a la prediccion, para el plot (comentar esta casilla para ver prediccion en crudo)\n",
    "\n",
    "forecast_noise=pd.DataFrame()\n",
    "\n",
    "forecast_noise['time']=forecast.time\n",
    "\n",
    "forecast_noise['anomaly']=np.random.uniform(forecast.lower, forecast.upper)\n",
    "\n",
    "forecast_noise.head()"
   ]
  },
  {
   "cell_type": "code",
   "execution_count": null,
   "id": "a649d007",
   "metadata": {},
   "outputs": [],
   "source": [
    "data_polar[['time', 'anomaly']].tail()"
   ]
  },
  {
   "cell_type": "code",
   "execution_count": null,
   "id": "f75e3fe0",
   "metadata": {},
   "outputs": [],
   "source": [
    "total_df=pd.concat([data_polar[['time', 'anomaly']], forecast_noise], axis=0)\n",
    "\n",
    "total_df.time=total_df.time.astype(str)\n",
    "\n",
    "total_df['year']=total_df.time.apply(lambda x: x.split('-')[0]).astype(int)\n",
    "total_df['month']=total_df.time.apply(lambda x: x.split('-')[1]).astype(int)\n",
    "\n",
    "total_df.head()"
   ]
  },
  {
   "cell_type": "code",
   "execution_count": null,
   "id": "293a4a67",
   "metadata": {},
   "outputs": [],
   "source": [
    "total_df.tail()"
   ]
  },
  {
   "cell_type": "code",
   "execution_count": null,
   "id": "7ef1317c",
   "metadata": {},
   "outputs": [],
   "source": [
    "# creacion de array de angulos\n",
    "theta=np.linspace(0, 2*np.pi, 12)  # para 12 meses, representacion de datos\n",
    "\n",
    "# inicia figura\n",
    "fig=plt.figure(figsize=(9,9))\n",
    "ax=plt.subplot(111, projection='polar')\n",
    "\n",
    "\n",
    "# circulos informativos, azul=0ºC, rojo=1.5 y 3ºC por encima de la media\n",
    "ax.plot(np.linspace(0, 2*np.pi, 1000), [1. for _ in range(1000)], c='blue')\n",
    "ax.plot(np.linspace(0, 2*np.pi, 1000), [2.5 for _ in range(1000)], c='red')\n",
    "ax.plot(np.linspace(0, 2*np.pi, 1000), [3. for _ in range(1000)], c='red')\n",
    "\n",
    "ax.text(np.pi/2, 1.0, '0.0 C', color='blue', ha='center', fontdict={'fontsize': 20})\n",
    "ax.text(np.pi/2, 2.5, '1.5 C', color='red', ha='center', fontdict={'fontsize': 20})\n",
    "ax.text(np.pi/2, 3.0, '2.0 C', color='red', ha='center', fontdict={'fontsize': 20})\n",
    "\n",
    "# elimina etiquetas\n",
    "ax.axes.get_yaxis().set_ticklabels([])\n",
    "ax.axes.get_xaxis().set_ticklabels([])\n",
    "\n",
    "# setup\n",
    "ax.set_ylim(0, 3.25)\n",
    "ax.set_facecolor('#000100')\n",
    "ax.grid(False)\n",
    "\n",
    "\n",
    "# bucle para representar cada año\n",
    "years=total_df.year.unique()\n",
    "\n",
    "\n",
    "months_angles=np.linspace((np.pi/2)+(2*np.pi), np.pi/2, 13)\n",
    "\n",
    "for i,month in enumerate(months):\n",
    "    ax.text(months_angles[i], 3.7 ,month, color='black', fontsize=15, ha='center')\n",
    "\n",
    "def animate_func(i):\n",
    "    # Borra el ultimo año del centro y deja el ultimo\n",
    "    for txt in ax.texts:\n",
    "      if(txt.get_position()==(0,0)) and i!=len(years):\n",
    "        txt.set_visible(False)\n",
    "        \n",
    "    # datos\n",
    "    data_plot=total_df[total_df.year==years[i]].anomaly\n",
    "    \n",
    "    # visualizacion\n",
    "    ax.plot(theta[:len(data_plot)], \n",
    "            data_plot, \n",
    "            c=plt.get_cmap('jet')(i))\n",
    "    \n",
    "    \n",
    "    ax.text(0 , 0, years[i], fontsize=20, color='white',ha='center')\n",
    "    \n",
    "    return ax\n",
    "\n",
    "\n",
    "\n",
    "anim=FuncAnimation(fig, \n",
    "                   animate_func, \n",
    "                   frames=len(years), \n",
    "                   interval=100,\n",
    "                   repeat=False)"
   ]
  },
  {
   "cell_type": "markdown",
   "id": "351e36dd",
   "metadata": {},
   "source": [
    "## Mapas"
   ]
  },
  {
   "cell_type": "code",
   "execution_count": null,
   "id": "9f9b9028",
   "metadata": {},
   "outputs": [],
   "source": [
    "map_df=xr.open_dataset('data/gistemp1200_GHCNv4_ERSSTv5.nc')\n",
    "\n",
    "map_df"
   ]
  },
  {
   "cell_type": "code",
   "execution_count": null,
   "id": "bde89a0e",
   "metadata": {},
   "outputs": [],
   "source": [
    "# anual\n",
    "\n",
    "climate=map_df.resample(time='Y').mean()\n",
    "\n",
    "anomaly=climate['tempanomaly']\n",
    "\n",
    "#anomaly"
   ]
  },
  {
   "cell_type": "code",
   "execution_count": null,
   "id": "e4f02821",
   "metadata": {
    "scrolled": false
   },
   "outputs": [],
   "source": [
    "# se crea un mapamundi\n",
    "\n",
    "fig = plt.figure(figsize=(10,8))\n",
    "fig.subplots_adjust(left=0.02, bottom=0.04, right=0.98, top=0.96, wspace=0, hspace=0)\n",
    "\n",
    "ax=fig.add_subplot(1,1,1, projection=ccrs.PlateCarree())\n",
    "\n",
    "ax.add_feature(NaturalEarthFeature('cultural', 'admin_0_countries', '10m'),\n",
    "                       facecolor='none', edgecolor='black')\n",
    "\n",
    "plt.show();"
   ]
  },
  {
   "cell_type": "code",
   "execution_count": null,
   "id": "328d9337",
   "metadata": {},
   "outputs": [],
   "source": [
    "# se crea mapa para un año dado\n",
    "\n",
    "# configuracion de la barra de color\n",
    "cbar_kwargs = {\n",
    "    'orientation':'horizontal',\n",
    "    'fraction': 0.045,\n",
    "    'pad': 0.01,\n",
    "    'extend':'neither'\n",
    "}\n",
    "\n",
    "fig=plt.figure(figsize=(10,8))\n",
    "fig.subplots_adjust(left=0.02, bottom=0.04, right=0.98, top=0.96, wspace=0, hspace=0)\n",
    "\n",
    "ax=fig.add_subplot(1,1,1, projection = ccrs.PlateCarree())\n",
    "\n",
    "ax.add_feature(NaturalEarthFeature('cultural', 'admin_0_countries', '10m'),\n",
    "                       facecolor='none', edgecolor='black')\n",
    "\n",
    "ax.set_extent([-150, 150, -55, 85])\n",
    "\n",
    "i=-1\n",
    "\n",
    "date=pd.to_datetime(anomaly.isel(time=i)['time'].values)\n",
    "\n",
    "ax.set_title('Anomalía de Temperatura en '+ str(date.year) + ' [°C]')\n",
    "\n",
    "anomaly.isel(time=i).plot.imshow(ax=ax, add_labels=False, add_colorbar=True,\n",
    "               vmin=-4, vmax=4, cmap='coolwarm',\n",
    "                                 \n",
    "               cbar_kwargs=cbar_kwargs, interpolation='bicubic')\n",
    "\n",
    "plt.show();"
   ]
  },
  {
   "cell_type": "code",
   "execution_count": null,
   "id": "44f4f8f8",
   "metadata": {},
   "outputs": [],
   "source": [
    "fig=plt.figure(figsize=(10,8))\n",
    "fig.subplots_adjust(left=0.02, bottom=0.04, right=0.98, top=0.96, wspace=0, hspace=0)\n",
    "\n",
    "\n",
    "ax = fig.add_subplot(111, projection=ccrs.PlateCarree())\n",
    "\n",
    "\n",
    "ax.add_feature(NaturalEarthFeature('cultural', 'admin_0_countries', '10m'),\n",
    "              facecolor='none', edgecolor='black')\n",
    "\n",
    "ax.set_extent([-110, 110, -55, 85])\n",
    "\n",
    "image=anomaly.isel(time=0).plot.imshow(ax=ax, \n",
    "                                       vmin=-4, \n",
    "                                       vmax=4,\n",
    "                                       add_labels=False,\n",
    "                                       cmap='coolwarm', \n",
    "                                       animated=True,\n",
    "                                       cbar_kwargs=cbar_kwargs, \n",
    "                                       interpolation='bicubic')\n",
    "\n",
    "\n",
    "\n",
    "def animate(t):\n",
    "    \n",
    "    date=pd.to_datetime(anomaly.sel(time=t)['time'].values)\n",
    "    \n",
    "    ax.set_title(\"Anomalía de Temperatura en \" + str(date.year) + \" [°C]\")\n",
    "    ax.title.set_fontsize(18)\n",
    "    \n",
    "    image.set_array(anomaly.sel(time=t))\n",
    "    \n",
    "    return image\n",
    "\n",
    "ani=FuncAnimation(fig, \n",
    "                  animate, \n",
    "                  frames=anomaly['time'].values,\n",
    "                  interval=100,\n",
    "                  repeat=False)\n"
   ]
  },
  {
   "cell_type": "code",
   "execution_count": null,
   "id": "753035de",
   "metadata": {},
   "outputs": [],
   "source": []
  }
 ],
 "metadata": {
  "kernelspec": {
   "display_name": "tensor",
   "language": "python",
   "name": "tensor"
  },
  "language_info": {
   "codemirror_mode": {
    "name": "ipython",
    "version": 3
   },
   "file_extension": ".py",
   "mimetype": "text/x-python",
   "name": "python",
   "nbconvert_exporter": "python",
   "pygments_lexer": "ipython3",
   "version": "3.8.13"
  }
 },
 "nbformat": 4,
 "nbformat_minor": 5
}
